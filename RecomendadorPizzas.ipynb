{
  "nbformat": 4,
  "nbformat_minor": 0,
  "metadata": {
    "colab": {
      "provenance": [],
      "authorship_tag": "ABX9TyOYK/WKSt/z3pahw5j00lDF",
      "include_colab_link": true
    },
    "kernelspec": {
      "name": "python3",
      "display_name": "Python 3"
    },
    "language_info": {
      "name": "python"
    }
  },
  "cells": [
    {
      "cell_type": "markdown",
      "metadata": {
        "id": "view-in-github",
        "colab_type": "text"
      },
      "source": [
        "<a href=\"https://colab.research.google.com/github/joseamaya/langraph-tutorials/blob/main/RecomendadorPizzas.ipynb\" target=\"_parent\"><img src=\"https://colab.research.google.com/assets/colab-badge.svg\" alt=\"Open In Colab\"/></a>"
      ]
    },
    {
      "cell_type": "code",
      "source": [
        "%%capture --no-stderr\n",
        "%pip install --quiet -U langchain_core langgraph langchain_openai"
      ],
      "metadata": {
        "id": "PuYpF-yFeC6u"
      },
      "execution_count": 1,
      "outputs": []
    },
    {
      "cell_type": "code",
      "source": [
        "import os, getpass\n",
        "\n",
        "def _set_env(var: str):\n",
        "    if not os.environ.get(var):\n",
        "        os.environ[var] = getpass.getpass(f\"{var}: \")\n",
        "\n",
        "_set_env(\"OPENAI_API_KEY\")"
      ],
      "metadata": {
        "colab": {
          "base_uri": "https://localhost:8080/"
        },
        "id": "MC3_XtCyeKuS",
        "outputId": "c59eeeb9-c842-424c-fcd5-a8b4c94b74ba"
      },
      "execution_count": 2,
      "outputs": [
        {
          "name": "stdout",
          "output_type": "stream",
          "text": [
            "OPENAI_API_KEY: ··········\n"
          ]
        }
      ]
    },
    {
      "cell_type": "code",
      "execution_count": 35,
      "metadata": {
        "id": "xZUg-mC8dUlX"
      },
      "outputs": [],
      "source": [
        "from langchain_core.prompts import ChatPromptTemplate\n",
        "from langchain_openai import ChatOpenAI\n",
        "from langchain_core.output_parsers import StrOutputParser\n",
        "from langgraph.graph import START, END, StateGraph, MessagesState\n",
        "\n",
        "model = ChatOpenAI(model=\"gpt-4o\")\n",
        "\n",
        "prompt_template = ChatPromptTemplate.from_messages([\n",
        "    (\"system\", \"\"\"\n",
        "    Eres un psicólogo de pizzas. Clasifica el estado de ánimo del usuario en una palabra:\n",
        "    - \"feliz\": si expresa alegría, logros o entusiasmo.\n",
        "    - \"triste\": si menciona tristeza, estrés o decepción.\n",
        "    - \"aventurero\": si usa palabras como \"probemos algo nuevo\" o \"sorpréndeme\".\n",
        "    - \"confundido\": en cualquier otro caso.\n",
        "    Respuesta SOLO con una de las opciones anteriores, nada más.\n",
        "    \"\"\"),\n",
        "    (\"human\", \"Mensaje del usuario: {user_message}\")\n",
        "])\n",
        "\n",
        "mood_chain = prompt_template | model | StrOutputParser()"
      ]
    },
    {
      "cell_type": "code",
      "source": [
        "from IPython.display import Image, display\n",
        "\n",
        "class PizzaState(MessagesState):\n",
        "    user_message: str\n",
        "    mood: str\n",
        "    pizza: str\n",
        "\n",
        "def detectar_humor(state: PizzaState):\n",
        "    mood = mood_chain.invoke({\"user_message\": state.get('user_message')})\n",
        "    return {\"mood\": mood.lower().strip()}\n",
        "\n",
        "def recomendar_pizza(state: PizzaState):\n",
        "    mood = state.get('mood')\n",
        "    if mood == \"feliz\":\n",
        "        return {\"pizza\": \"Hawaiana (sí, con piña 🍍, ¡atrévete a odiarme!)\"}\n",
        "    elif mood == \"triste\":\n",
        "        return {\"pizza\": \"4 Quesos + KitKat de postre (porque el azúcar cura todo)\"}\n",
        "    elif mood == \"aventurero\":\n",
        "        return {\"pizza\": \"Picante Infernal 🌶️... ¡con jalapeños extra!\"}\n",
        "    else:\n",
        "        return {\"pizza\": \"Margarita Clásica (lo seguro es mejor 😉)\"}\n",
        "\n",
        "def responder_usuario(state: PizzaState):\n",
        "    return {\"response\": f\"¡Te recomiendo: {state.get('pizza')}!\"}\n",
        "\n",
        "workflow = StateGraph(PizzaState)\n",
        "workflow.add_node(\"detectar_humor\", detectar_humor)\n",
        "workflow.add_node(\"recomendar_pizza\", recomendar_pizza)\n",
        "workflow.add_node(\"responder\", responder_usuario)\n",
        "workflow.add_edge(START, \"detectar_humor\")\n",
        "workflow.add_edge(\"detectar_humor\", \"recomendar_pizza\")\n",
        "workflow.add_edge(\"recomendar_pizza\", \"responder\")\n",
        "workflow.add_edge(\"responder\", END)\n",
        "graph = workflow.compile()\n",
        "display(Image(graph.get_graph().draw_mermaid_png()))"
      ],
      "metadata": {
        "colab": {
          "base_uri": "https://localhost:8080/",
          "height": 449
        },
        "id": "Boyo0Zj5d4_J",
        "outputId": "49bcb2ac-c6b6-4ff1-bcb9-dda6c9e55ce7"
      },
      "execution_count": 36,
      "outputs": [
        {
          "output_type": "display_data",
          "data": {
            "image/png": "[encoded data removed]",
            "text/plain": [
              "<IPython.core.display.Image object>"
            ]
          },
          "metadata": {}
        }
      ]
    },
    {
      "cell_type": "code",
      "source": [
        "resultado = graph.invoke({\"user_message\": \"Hoy quiero viajar\"})\n",
        "print(resultado.get('mood'))\n",
        "print(resultado.get('pizza'))"
      ],
      "metadata": {
        "colab": {
          "base_uri": "https://localhost:8080/"
        },
        "id": "mJ5XcnIehUvH",
        "outputId": "a30e65bf-a31d-469e-c21f-43903f3495c3"
      },
      "execution_count": 37,
      "outputs": [
        {
          "output_type": "stream",
          "name": "stdout",
          "text": [
            "aventurero\n",
            "Picante Infernal 🌶️... ¡con jalapeños extra!\n"
          ]
        }
      ]
    }
  ]
}